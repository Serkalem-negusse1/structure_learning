{
 "cells": [
  {
   "cell_type": "markdown",
   "id": "bf99f762",
   "metadata": {},
   "source": [
    "# Structure Learning in Bayesian Networks\n",
    "### Based on Chapter 18 of *Probabilistic Graphical Models* by Koller & Friedman\n",
    "### Presented By: Serkalem Negusse"
   ]
  },
  {
   "cell_type": "markdown",
   "id": "9430a005",
   "metadata": {},
   "source": [
    "\n",
    "## 🎯 Objectives\n",
    "- Understand structure learning concepts from Chapter 18\n",
    "- Apply constraint-based and score-based learning\n",
    "- Visualize learned Bayesian networks\n",
    "- Evaluate learned models against ground truth\n"
   ]
  },
  {
   "attachments": {
    "image.png": {
     "image/png": "[encoded data removed]"
    }
   },
   "cell_type": "markdown",
   "id": "0ab8d338",
   "metadata": {},
   "source": [
    "## ![image.png](attachment:image.png) Content Outline\n",
    "1. Introduction to Structure Learning\n",
    "2. Constraint-Based Approaches\n",
    "3. Score-Based Approaches\n",
    "4. Structure Search Methods\n",
    "5. Bayesian Model Averaging\n",
    "6. Learning with Additional Structure\n",
    "7. Practical Applications\n",
    "8. Visualization Strategies\n",
    "9. Practical Examples\n",
    "10. Summary"
   ]
  },
  {
   "cell_type": "code",
   "execution_count": 1,
   "id": "68b8b4ea",
   "metadata": {},
   "outputs": [],
   "source": [
    "\n",
    "!pip install pgmpy networkx matplotlib pandas scikit-learn\n"
   ]
  },
  {
   "cell_type": "markdown",
   "id": "7069d079",
   "metadata": {},
   "source": [
    "## Introduction to Structure Learning\n",
    "- Learn Bayesian network structure from data\n",
    "- **Goal:** Find a graph G that explains dataset D ~ P*(X)\n",
    "- **Key challenge:** multiple structures can represent same independencies\n",
    "- Use in discovering causal patterns or improving predictions"
   ]
  },
  {
   "cell_type": "markdown",
   "id": "d1af3bf0",
   "metadata": {},
   "source": [
    "## Constraint - Based Approaches\n",
    "- Uses conditional independence (CI) tests to learn structure\n",
    "- Example: PC algorithm (skeleton + v-structure orientation)\n",
    "- Pros: Intuitive, explainable\n",
    "- Cons: Sensitive to errors in CI testing"
   ]
  },
  {
   "cell_type": "markdown",
   "id": "a1f8c0da",
   "metadata": {},
   "source": [
    "## Score - Based Approach\n",
    "- Assign a score to each structure (e.g., BIC, BDe)\n",
    "- Optimize over possible structures\n",
    "- Balances model fit and complexity\n",
    "- Handles noisy data more robustly than constraint-based methods"
   ]
  },
  {
   "cell_type": "markdown",
   "id": "80393a81",
   "metadata": {},
   "source": [
    "## Structure Search\n",
    "- Search space is exponential in number of variables\n",
    "- Use heuristics: hill-climbing, tabu search, genetic algorithms, MCMC\n",
    "- Trade-off between completeness and computational cost"
   ]
  },
  {
   "cell_type": "markdown",
   "id": "4eb03ef5",
   "metadata": {},
   "source": [
    "## Bayesian Model Averaging\n",
    "- Instead of one structure, average over many using their posterior probability\n",
    "- Reduces overfitting and gives edge confidence\n",
    "- Useful in domains with noisy or sparse data"
   ]
  },
  {
   "cell_type": "markdown",
   "id": "63086d7d",
   "metadata": {},
   "source": [
    "## Learning with Additional Structure\n",
    "- Incorporate structured CPDs: noisy-OR, tree-CPDs, parameter sharing\n",
    "- Template models for relational domains (e.g., plate models)\n",
    "- Improves generalization with fewer parameters"
   ]
  },
  {
   "cell_type": "markdown",
   "id": "3db4c632",
   "metadata": {},
   "source": [
    "## Practical Applications\n",
    "- Healthcare: Alarm Network for ICU patient monitoring\n",
    "- Bioinformatics: Gene regulatory networks\n",
    "- Recommendation Systems: Collaborative filtering\n",
    "- Education: Student knowledge modeling\n",
    "- Marketing: Customer behavior prediction"
   ]
  },
  {
   "cell_type": "markdown",
   "id": "5efbe299",
   "metadata": {},
   "source": [
    "## Practical Examples\n",
    "- Alarm Network: Infers medical events from vital signs\n",
    "- Collaborative Filtering: Learn structure of preferences\n",
    "- Weather-Football-Coffee: Causal toy model structure learning"
   ]
  },
  {
   "cell_type": "markdown",
   "id": "d24932f9",
   "metadata": {},
   "source": [
    "## Visualization Recommendations\n",
    "- Directed Acyclic Graphs (DAGs): Key format for learned structures\n",
    "- Heatmaps: Confidence scores of edges\n",
    "- Search Trees: Trace structure learning process\n",
    "- Tools: pgmpy, bnlearn, GeNIe, Tetrad"
   ]
  },
  {
   "cell_type": "markdown",
   "id": "96d52f8e",
   "metadata": {},
   "source": [
    "## Summary\n",
    "- Structure learning enables discovery of data-generating processes\n",
    "- Constraint-based vs. score-based approaches\n",
    "- Visualization crucial for interpreting model insights\n",
    "- Used widely in real-world applications across fields"
   ]
  },
  {
   "cell_type": "markdown",
   "id": "303782f0",
   "metadata": {},
   "source": [
    "## 📥 Load Dataset"
   ]
  },
  {
   "cell_type": "code",
   "execution_count": null,
   "id": "bd59d36c",
   "metadata": {},
   "outputs": [],
   "source": [
    "\n",
    "import pandas as pd\n",
    "\n",
    "# Load Asia dataset (you can replace with your own)\n",
    "# Sample Asia dataset as an example (8 binary variables)\n",
    "from pgmpy.utils import get_example_model\n",
    "asia_model = get_example_model('asia')\n",
    "data = asia_model.simulate(n_samples=1000, seed=42)\n",
    "data.head()\n"
   ]
  },
  {
   "cell_type": "markdown",
   "id": "49b96f6c",
   "metadata": {},
   "source": [
    "## 🔍 Constraint-Based Learning (PC Algorithm)"
   ]
  },
  {
   "cell_type": "code",
   "execution_count": null,
   "id": "67772918",
   "metadata": {},
   "outputs": [],
   "source": [
    "\n",
    "from pgmpy.estimators import PC\n",
    "\n",
    "pc = PC(data)\n",
    "model_pc = pc.estimate()\n",
    "model_pc.edges()\n"
   ]
  },
  {
   "cell_type": "markdown",
   "id": "835c2e81",
   "metadata": {},
   "source": [
    "### 🖼 Visualize PC Learned Structure"
   ]
  },
  {
   "cell_type": "code",
   "execution_count": null,
   "id": "a579d495",
   "metadata": {},
   "outputs": [],
   "source": [
    "\n",
    "import matplotlib.pyplot as plt\n",
    "import networkx as nx\n",
    "\n",
    "plt.figure(figsize=(8,6))\n",
    "nx.draw(model_pc.to_digraph(), with_labels=True, node_color='lightblue', node_size=2000)\n",
    "plt.title(\"PC Algorithm Structure\")\n",
    "plt.show()\n"
   ]
  },
  {
   "cell_type": "markdown",
   "id": "b329d2c5",
   "metadata": {},
   "source": [
    "## 📊 Score-Based Learning (BIC)"
   ]
  },
  {
   "cell_type": "code",
   "execution_count": null,
   "id": "786b30be",
   "metadata": {},
   "outputs": [],
   "source": [
    "\n",
    "from pgmpy.estimators import HillClimbSearch, BicScore\n",
    "\n",
    "hc = HillClimbSearch(data)\n",
    "model_bic = hc.estimate(scoring_method=BicScore(data))\n",
    "model_bic.edges()\n"
   ]
  },
  {
   "cell_type": "markdown",
   "id": "7d9bd0b0",
   "metadata": {},
   "source": [
    "### 🖼 Visualize BIC Learned Structure"
   ]
  },
  {
   "cell_type": "code",
   "execution_count": null,
   "id": "aa26958f",
   "metadata": {},
   "outputs": [],
   "source": [
    "\n",
    "plt.figure(figsize=(8,6))\n",
    "nx.draw(model_bic.to_digraph(), with_labels=True, node_color='lightgreen', node_size=2000)\n",
    "plt.title(\"Score-Based (BIC) Structure\")\n",
    "plt.show()\n"
   ]
  },
  {
   "cell_type": "markdown",
   "id": "84780d10",
   "metadata": {},
   "source": [
    "## ✅ Compare with True Model"
   ]
  },
  {
   "cell_type": "code",
   "execution_count": null,
   "id": "2ca24e2f",
   "metadata": {},
   "outputs": [],
   "source": [
    "\n",
    "from pgmpy.metrics import hamming_distance\n",
    "\n",
    "true_model = asia_model\n",
    "print(\"Hamming Distance (PC):\", hamming_distance(model_pc, true_model))\n",
    "print(\"Hamming Distance (BIC):\", hamming_distance(model_bic, true_model))\n"
   ]
  },
  {
   "cell_type": "markdown",
   "id": "f57744bf",
   "metadata": {},
   "source": [
    "\n",
    "## 📌 Summary\n",
    "- **PC Algorithm** uses conditional independence tests to recover structure.\n",
    "- **Score-based (BIC)** methods optimize a global score.\n",
    "- **Evaluation** shows structural closeness to ground truth.\n",
    "- This project demonstrates the core ideas from **Chapter 18** using real Bayesian network tools.\n"
   ]
  },
  {
   "cell_type": "markdown",
   "id": "b34c9e7c",
   "metadata": {},
   "source": [
    "## 🔁 Bayesian Model Averaging (Approximation)"
   ]
  },
  {
   "cell_type": "code",
   "execution_count": null,
   "id": "aedc05e7",
   "metadata": {},
   "outputs": [],
   "source": [
    "\n",
    "from modules.bma_and_parameter_learning import sample_structures\n",
    "\n",
    "edge_probs, sampled_models = sample_structures(data, num_samples=20)\n",
    "for edge, prob in sorted(edge_probs.items(), key=lambda x: -x[1]):\n",
    "    print(f\"Edge {edge} - Posterior Probability: {prob:.2f}\")\n"
   ]
  },
  {
   "cell_type": "markdown",
   "id": "b126a661",
   "metadata": {},
   "source": [
    "### 🖼 Visualize Edge Probabilities (as Graph)"
   ]
  },
  {
   "cell_type": "code",
   "execution_count": null,
   "id": "76d4259e",
   "metadata": {},
   "outputs": [],
   "source": [
    "\n",
    "import networkx as nx\n",
    "import matplotlib.pyplot as plt\n",
    "\n",
    "G = nx.Graph()\n",
    "for edge, prob in edge_probs.items():\n",
    "    G.add_edge(*edge, weight=prob)\n",
    "\n",
    "pos = nx.spring_layout(G)\n",
    "edges = G.edges(data=True)\n",
    "weights = [d['weight'] * 5 for (_, _, d) in edges]\n",
    "\n",
    "plt.figure(figsize=(10,6))\n",
    "nx.draw(G, pos, with_labels=True, width=weights, node_color='lightblue', edge_color='gray')\n",
    "edge_labels = {(u,v): f\"{d['weight']:.2f}\" for u,v,d in edges}\n",
    "nx.draw_networkx_edge_labels(G, pos, edge_labels=edge_labels)\n",
    "plt.title(\"Posterior Edge Probabilities from BMA\")\n",
    "plt.show()\n"
   ]
  },
  {
   "cell_type": "markdown",
   "id": "53a3dc58",
   "metadata": {},
   "source": [
    "## 📐 Parameter Learning"
   ]
  },
  {
   "cell_type": "code",
   "execution_count": null,
   "id": "7d201b3a",
   "metadata": {},
   "outputs": [],
   "source": [
    "\n",
    "from modules.bma_and_parameter_learning import learn_parameters\n",
    "\n",
    "# Fit parameters to BIC-learned structure\n",
    "model_bic = learn_parameters(model_bic, data)\n",
    "model_bic.get_cpds()\n"
   ]
  },
  {
   "cell_type": "markdown",
   "id": "fcc03e0f",
   "metadata": {},
   "source": [
    "## 🔎 Inference on Learned Model"
   ]
  },
  {
   "cell_type": "code",
   "execution_count": null,
   "id": "fd58f568",
   "metadata": {},
   "outputs": [],
   "source": [
    "\n",
    "from modules.bma_and_parameter_learning import perform_inference\n",
    "\n",
    "# Query: What is P(Dyspnea | VisitAsia = yes)?\n",
    "result = perform_inference(model_bic, query=[\"dyspnea\"], evidence={\"visit_to_asia\": \"yes\"})\n",
    "print(result)\n",
    "result.plot()\n"
   ]
  }
 ],
 "metadata": {
  "kernelspec": {
   "display_name": "Python 3",
   "language": "python",
   "name": "python3"
  },
  "language_info": {
   "codemirror_mode": {
    "name": "ipython",
    "version": 3
   },
   "file_extension": ".py",
   "mimetype": "text/x-python",
   "name": "python",
   "nbconvert_exporter": "python",
   "pygments_lexer": "ipython3",
   "version": "3.9.0"
  }
 },
 "nbformat": 4,
 "nbformat_minor": 5
}
